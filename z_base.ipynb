{
 "cells": [
  {
   "cell_type": "code",
   "execution_count": 1,
   "id": "7ed9c4a5-5b5a-4d09-9187-a7bcca99505c",
   "metadata": {},
   "outputs": [],
   "source": [
    "ADDR = 'Portfolio-11-20-2021.csv'"
   ]
  },
  {
   "cell_type": "code",
   "execution_count": 2,
   "id": "e9bb1380-3edf-40ea-81e9-3b437f8cee4d",
   "metadata": {},
   "outputs": [],
   "source": [
    "import pandas as pd"
   ]
  },
  {
   "cell_type": "code",
   "execution_count": 3,
   "id": "728565e8-11f9-4b90-9123-bbd44666fe92",
   "metadata": {},
   "outputs": [],
   "source": [
    "# lendo o arquivo, sem filtros\n",
    "\n",
    "def read_file(addr):\n",
    "    p = pd.read_csv(addr)\n",
    "    p = p[p.Portfolio == \"Bovespa\"]\n",
    "    p = p.reset_index()\n",
    "\n",
    "    d = {'Id':'id', 'Symbol':'symbol', 'Type': 'type', 'Name':'name', 'Exchange':'exchange', 'Quantity':'qnt', 'Cost Per Share':'value', 'Date':'date', 'TimeOfDay': 'time', 'Notes        ':'notes'}\n",
    "    p = p.rename(columns=d)\n",
    "\n",
    "    p = p[['id', 'symbol', 'name', 'exchange', 'qnt', 'value', 'type', 'date', 'time', 'notes']]\n",
    "    \n",
    "    # convertion to 'date' format\n",
    "    p.replace('\\s*GMT[+-].*', '', regex=True, inplace=True)\n",
    "    p.date = pd.to_datetime(p.date)\n",
    "    \n",
    "    return p\n"
   ]
  },
  {
   "cell_type": "code",
   "execution_count": 6,
   "id": "dc225fc3-144e-4b66-b1c2-b95428e40a99",
   "metadata": {},
   "outputs": [
    {
     "name": "stdout",
     "output_type": "stream",
     "text": [
      "EMBR3.SA 2000.0 10869.00\n"
     ]
    }
   ],
   "source": [
    "# imprimir operacoes acao e saldo + preco medio no final\n",
    "ACAO = 'ABEV'\n",
    "p = read_file(ADDR)\n",
    "\n",
    "def check_exist(buf, pi):\n",
    "    for bi in buf:\n",
    "        if (bi.qnt == pi.qnt) and (bi.type == pi.type) and (bi.value == pi.value) and (abs((bi.date - pi.date).days) <= 1):\n",
    "            return True\n",
    "    return False\n",
    "\n",
    "\n",
    "def get_acao(p, ACAO):\n",
    "    # filtrando acoes ACAO\n",
    "    p_ = p[[ACAO.upper() in s for s in p.symbol]]\n",
    "\n",
    "    # listando por ordem de transacao (todas, antes de filtrar)\n",
    "\n",
    "    saldo = 0\n",
    "    valor = 0.\n",
    "    \n",
    "    buf   = []\n",
    "\n",
    "    for pi_ in p_.iterrows():\n",
    "        pi = pi_[1]\n",
    "\n",
    "        if pd.isna(pi.qnt):\n",
    "            continue\n",
    "\n",
    "        if check_exist(buf, pi):\n",
    "            continue\n",
    "\n",
    "        buf.append(pi)\n",
    "        # print(f\"{pi.symbol}, {pi.date}, {pi.time}, {pi.type}, {pi.qnt}, {pi.value}, {pi.notes}\")\n",
    "\n",
    "        # check if is in buffer\n",
    "\n",
    "        if pi.type == 'Buy':\n",
    "            saldo += pi.qnt\n",
    "            valor += pi.value*pi.qnt\n",
    "\n",
    "        if pi.type == 'Sell':\n",
    "            saldo -= pi.qnt\n",
    "            valor -= pi.value*pi.qnt\n",
    "\n",
    "            \n",
    "\n",
    "    p_out = pd.DataFrame(buf)\n",
    "    \n",
    "    pm = 0.\n",
    "    if abs(saldo) > 0.1:\n",
    "        pm = valor/saldo\n",
    "        \n",
    "    print(pi.symbol, saldo, f'{valor:.2f}')\n",
    "        \n",
    "    return p_out, saldo\n",
    "    \n",
    "get_acao(p, 'embr');"
   ]
  },
  {
   "cell_type": "code",
   "execution_count": 7,
   "id": "41d29519-60d1-414b-833f-73c124149e9e",
   "metadata": {},
   "outputs": [
    {
     "name": "stdout",
     "output_type": "stream",
     "text": [
      "BIDI4.SA 100.0 -28278.00\n",
      "ITSA4.SA 2500.0 26156.00\n",
      "PETR4.SA 700.0 563.00\n",
      "ABEV3.SA 0.0 -8330.00\n",
      "CIEL3.SA 2500.0 11690.00\n",
      "GOLL4.SA 0.0 -1953.00\n",
      "AZUL4.SA 400.0 5911.00\n",
      "EMBR3.SA 2000.0 10869.00\n",
      "BBDC4.SA 0.0 -122.00\n",
      "TRAD3.SA 11000.0 70679.00\n",
      "BIDI11.SA 400.0 19300.00\n",
      "MGLU3.SA 1100.0 10373.00\n"
     ]
    }
   ],
   "source": [
    "for s in p.symbol.unique():\n",
    "    get_acao(p, s)"
   ]
  }
 ],
 "metadata": {
  "kernelspec": {
   "display_name": "Python 3 (ipykernel)",
   "language": "python",
   "name": "python3"
  },
  "language_info": {
   "codemirror_mode": {
    "name": "ipython",
    "version": 3
   },
   "file_extension": ".py",
   "mimetype": "text/x-python",
   "name": "python",
   "nbconvert_exporter": "python",
   "pygments_lexer": "ipython3",
   "version": "3.9.7"
  }
 },
 "nbformat": 4,
 "nbformat_minor": 5
}
